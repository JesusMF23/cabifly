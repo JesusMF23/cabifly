{
 "cells": [
  {
   "attachments": {},
   "cell_type": "markdown",
   "id": "449feae8-ec4f-48f5-96ee-953c55c7d75e",
   "metadata": {},
   "source": [
    "<br/>\n",
    "\n",
    "<img src=\"https://uploads-ssl.webflow.com/614b1fe22fa8b90ef41aeffe/6265cb48f9496b1cefc9ab75_logotipo-mbit-39.png\" width=\"200px\" align=\"right\" CLASS=\"TextWrap\" style=\"background-color:#2a3f3f;\">\n",
    "\n",
    "<h1><font color=\"#2a3f3f\" size=5>Cabifly APP</font></h1>\n",
    "\n",
    "<br/>\n",
    "<div style=\"text-align: right\">\n",
    "<font color=\"#2a3f3f\" size=3>Adrian Sanchez - adrian.sanchez@mbitschool.com</font><br>\n",
    "<font color=\"#2a3f3f\" size=3>Máster en Data Engineering </font><br>\n",
    "</div>\n"
   ]
  },
  {
   "attachments": {},
   "cell_type": "markdown",
   "id": "b5197b21-d75a-4cd8-b47c-17f1a6fe4e8b",
   "metadata": {},
   "source": [
    "¡La App principal de Cabifly!\n",
    "\n",
    "Esta libreta simula la aplicación de cabifly utilizando la librería `ipyleaftlet` una versión interactiva de Folium.\n",
    "\n",
    "En esta libreta:\n",
    "\n",
    "- Utilizamos la API de drones para obtener su ubicación y pintarlos de manera interactiva en el mapa\n",
    "- Utilizamos la API de trips para solicitar un nuevo viaje y determinar la ubicación del drone más idóneo\n",
    "\n",
    "__TAREAS:__\n",
    "\n",
    "- No tienes que hacer nada en esta libreta, solo comprobar que funciona con el resto de componentes que estás construyendo!\n",
    "- Acuérdate de actualizar las URLs cuando quieras utilizar tus microservicios en AWS"
   ]
  },
  {
   "attachments": {},
   "cell_type": "markdown",
   "id": "ba34ffcc-69f6-4fb7-ba7c-5889902b894b",
   "metadata": {},
   "source": [
    "## Configuración de la interfaz\n",
    "\n",
    "Utilizamos el paquete ipyleaflet para que el mapa sea interactivo"
   ]
  },
  {
   "cell_type": "code",
   "execution_count": null,
   "id": "f08b35ec-7ce3-4d29-bbe3-48f1a8472830",
   "metadata": {
    "tags": []
   },
   "outputs": [],
   "source": [
    "from ipyleaflet import Map, Marker, Icon\n",
    "\n",
    "import requests\n",
    "import time"
   ]
  },
  {
   "cell_type": "code",
   "execution_count": null,
   "id": "ab29d622-2a1e-429c-a10e-6f03ecf7de28",
   "metadata": {
    "tags": []
   },
   "outputs": [],
   "source": [
    "geo_madrid = (40.4168, -3.7038)"
   ]
  },
  {
   "cell_type": "code",
   "execution_count": null,
   "id": "a512426d-5262-42ad-a93a-873135cb2a98",
   "metadata": {
    "tags": []
   },
   "outputs": [],
   "source": [
    "m = Map(\n",
    "    center=geo_madrid, \n",
    "    zoom=15\n",
    ")"
   ]
  },
  {
   "attachments": {},
   "cell_type": "markdown",
   "id": "d9e82514-026e-4991-9931-5888e291da2a",
   "metadata": {},
   "source": [
    "Esta función convierte los datos de los drones en marcadores del mapa"
   ]
  },
  {
   "cell_type": "code",
   "execution_count": null,
   "id": "f8da86bd-4050-4011-bd9c-3830182571e6",
   "metadata": {
    "tags": []
   },
   "outputs": [],
   "source": [
    "def get_marker(drone):\n",
    "    return Marker(\n",
    "        icon = Icon(icon_url='https://cdn-icons-png.flaticon.com/512/1830/1830867.png', icon_size=[40, 40], icon_anchor=[40,40]),\n",
    "        location=(drone[\"location\"][\"coordinates\"][1], drone[\"location\"][\"coordinates\"][0]),\n",
    "        title=drone[\"drone_id\"],\n",
    "        draggable=False\n",
    "    )"
   ]
  },
  {
   "attachments": {},
   "cell_type": "markdown",
   "id": "a02ee0ab-0dfe-4cc4-b427-a9417c00ae94",
   "metadata": {},
   "source": [
    "### Carga de datos inicial\n",
    "\n",
    "Cargamos los drones de la API y los añadimos al mapa"
   ]
  },
  {
   "cell_type": "code",
   "execution_count": null,
   "id": "f5f27818-7a79-4590-a5f0-a3af5ce733fc",
   "metadata": {
    "tags": []
   },
   "outputs": [],
   "source": [
    "# Get drones from mongodb\n",
    "drones = requests.get(\"http://localhost:8000/drones\").json()"
   ]
  },
  {
   "cell_type": "code",
   "execution_count": null,
   "id": "1fe70047-f711-4ee9-90e7-3ceaa08b39ce",
   "metadata": {
    "tags": []
   },
   "outputs": [],
   "source": [
    "markers = {d[\"drone_id\"]: get_marker(d) for d in drones}"
   ]
  },
  {
   "cell_type": "code",
   "execution_count": null,
   "id": "fb6457ae-0268-4a03-9c6b-eeb2563b8ed0",
   "metadata": {
    "tags": []
   },
   "outputs": [],
   "source": [
    "for mkr in markers.values():\n",
    "    m.add_layer(mkr)"
   ]
  },
  {
   "attachments": {},
   "cell_type": "markdown",
   "id": "e6c1eecb-5e02-4170-851c-575442faec65",
   "metadata": {},
   "source": [
    "### Marcador para posición del usuario\n",
    "\n",
    "Permitirá obtener su posición para llamar a la API de trips"
   ]
  },
  {
   "cell_type": "code",
   "execution_count": null,
   "id": "e38bf8ae-1107-4746-b684-f26a444f7d82",
   "metadata": {
    "tags": []
   },
   "outputs": [],
   "source": [
    "user_location = Marker(location=geo_madrid)\n",
    "m.add_layer(user_location)"
   ]
  },
  {
   "cell_type": "code",
   "execution_count": null,
   "id": "ebbef6ea-7138-4506-9cbb-5fbf88633666",
   "metadata": {
    "tags": []
   },
   "outputs": [],
   "source": [
    "user_location.location"
   ]
  },
  {
   "attachments": {},
   "cell_type": "markdown",
   "id": "d0672ba4-8617-4f71-90a6-d6b60819cebc",
   "metadata": {},
   "source": [
    "### Mostramos y actualizamos el mapa"
   ]
  },
  {
   "cell_type": "code",
   "execution_count": null,
   "id": "4b1b34ba-607a-4971-aaca-3f8e187edab0",
   "metadata": {
    "tags": []
   },
   "outputs": [],
   "source": [
    "m"
   ]
  },
  {
   "attachments": {},
   "cell_type": "markdown",
   "id": "ec5d8d52-93dd-4480-9357-5d494b103870",
   "metadata": {
    "tags": []
   },
   "source": [
    "### Llamadas a la API para crear y consultar los viajes"
   ]
  },
  {
   "cell_type": "code",
   "execution_count": null,
   "id": "969705e3-b980-4592-89fc-af79121ce860",
   "metadata": {
    "tags": []
   },
   "outputs": [],
   "source": [
    "trip = requests.post(\n",
    "    \"http://localhost:8001/users/adrian/trips\", \n",
    "    json={\n",
    "        \"lon\": user_location.location[1], \n",
    "        \"lat\": user_location.location[0]\n",
    "    }\n",
    ").json()"
   ]
  },
  {
   "cell_type": "code",
   "execution_count": null,
   "id": "b7afbd48-a94a-4797-8e8d-54ab99dfc4c7",
   "metadata": {
    "tags": []
   },
   "outputs": [],
   "source": [
    "trip"
   ]
  },
  {
   "cell_type": "code",
   "execution_count": null,
   "id": "08fcee9c-8406-42ed-82a4-5796ea17ea21",
   "metadata": {
    "tags": []
   },
   "outputs": [],
   "source": [
    "# Get drones from mongodb\n",
    "trips = requests.get(\"http://localhost:8001/users/adrian/trips\").json()"
   ]
  },
  {
   "cell_type": "code",
   "execution_count": null,
   "id": "006ee4c0-463a-4249-bfc6-3fdb3279bd3d",
   "metadata": {
    "tags": []
   },
   "outputs": [],
   "source": [
    "trips"
   ]
  },
  {
   "attachments": {},
   "cell_type": "markdown",
   "id": "f94eeae5-d7f1-4ec8-b91d-59a9440bb458",
   "metadata": {},
   "source": [
    "### Bucle de actualización del mapa\n",
    "\n",
    "Lo ejecutamos en un thread para no bloquear la libreta"
   ]
  },
  {
   "cell_type": "code",
   "execution_count": null,
   "id": "e131ec97-b255-4378-96fb-3e42c05ad072",
   "metadata": {},
   "outputs": [],
   "source": [
    "import threading"
   ]
  },
  {
   "cell_type": "code",
   "execution_count": null,
   "id": "034d58aa-3dbc-462e-8a4c-110517501334",
   "metadata": {
    "tags": []
   },
   "outputs": [],
   "source": [
    "# Para pararlo cambiar esta variable\n",
    "running = True"
   ]
  },
  {
   "cell_type": "code",
   "execution_count": null,
   "id": "2a34283c-b6ea-44ff-b922-929777086209",
   "metadata": {
    "tags": []
   },
   "outputs": [],
   "source": [
    "def update_map():\n",
    "    while running:\n",
    "        # Get drones from mongodb\n",
    "        # drones = requests.get()\n",
    "        drones = requests.get(\"http://localhost:8000/drones\").json()\n",
    "\n",
    "        for d in drones:\n",
    "            markers[d[\"drone_id\"]].location = (d[\"location\"][\"coordinates\"][1], d[\"location\"][\"coordinates\"][0])\n",
    "\n",
    "        time.sleep(5)"
   ]
  },
  {
   "cell_type": "code",
   "execution_count": null,
   "id": "afc9d7aa-3e43-48b6-a7cf-33faf298498a",
   "metadata": {},
   "outputs": [],
   "source": [
    "thread = threading.Thread(target=update_map)"
   ]
  },
  {
   "cell_type": "code",
   "execution_count": null,
   "id": "787e06e4-5f94-4ba4-afe6-150bb590c7a2",
   "metadata": {},
   "outputs": [],
   "source": [
    "thread.start()"
   ]
  },
  {
   "cell_type": "code",
   "execution_count": null,
   "id": "c6ec5123-6450-4eff-a2ea-4cf6fef8eb17",
   "metadata": {
    "tags": []
   },
   "outputs": [],
   "source": [
    "thread.is_alive()"
   ]
  },
  {
   "cell_type": "code",
   "execution_count": null,
   "id": "a2b1b26e-dcf3-4424-8df8-7039c04db118",
   "metadata": {},
   "outputs": [],
   "source": []
  }
 ],
 "metadata": {
  "kernelspec": {
   "display_name": "Python 3 (ipykernel)",
   "language": "python",
   "name": "python3"
  },
  "language_info": {
   "codemirror_mode": {
    "name": "ipython",
    "version": 3
   },
   "file_extension": ".py",
   "mimetype": "text/x-python",
   "name": "python",
   "nbconvert_exporter": "python",
   "pygments_lexer": "ipython3",
   "version": "3.8.0"
  }
 },
 "nbformat": 4,
 "nbformat_minor": 5
}
