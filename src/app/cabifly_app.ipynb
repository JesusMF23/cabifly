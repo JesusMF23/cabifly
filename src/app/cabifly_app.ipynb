{
 "cells": [
  {
   "attachments": {},
   "cell_type": "markdown",
   "id": "449feae8-ec4f-48f5-96ee-953c55c7d75e",
   "metadata": {},
   "source": [
    "<br/>\n",
    "\n",
    "<img src=\"https://uploads-ssl.webflow.com/614b1fe22fa8b90ef41aeffe/6265cb48f9496b1cefc9ab75_logotipo-mbit-39.png\" width=\"200px\" align=\"right\" CLASS=\"TextWrap\" style=\"background-color:#2a3f3f;\">\n",
    "\n",
    "<h1><font color=\"#2a3f3f\" size=5>Cabifly APP</font></h1>\n",
    "\n",
    "<br/>\n",
    "<div style=\"text-align: right\">\n",
    "<font color=\"#2a3f3f\" size=3>Adrian Sanchez - adrian.sanchez@mbitschool.com</font><br>\n",
    "<font color=\"#2a3f3f\" size=3>Máster en Data Engineering </font><br>\n",
    "</div>\n"
   ]
  },
  {
   "attachments": {},
   "cell_type": "markdown",
   "id": "b5197b21-d75a-4cd8-b47c-17f1a6fe4e8b",
   "metadata": {},
   "source": [
    "¡La App principal de Cabifly!\n",
    "\n",
    "Esta libreta simula la aplicación de cabifly utilizando la librería `ipyleaftlet` una versión interactiva de Folium.\n",
    "\n",
    "En esta libreta:\n",
    "\n",
    "- Utilizamos la API de drones para obtener su ubicación y pintarlos de manera interactiva en el mapa\n",
    "- Utilizamos la API de trips para solicitar un nuevo viaje y determinar la ubicación del drone más idóneo\n",
    "\n",
    "__TAREAS:__\n",
    "\n",
    "- No tienes que hacer nada en esta libreta, solo comprobar que funciona con el resto de componentes que estás construyendo!\n",
    "- Acuérdate de actualizar las URLs cuando quieras utilizar tus microservicios en AWS"
   ]
  },
  {
   "attachments": {},
   "cell_type": "markdown",
   "id": "ba34ffcc-69f6-4fb7-ba7c-5889902b894b",
   "metadata": {},
   "source": [
    "## Configuración de la interfaz\n",
    "\n",
    "Utilizamos el paquete ipyleaflet para que el mapa sea interactivo"
   ]
  },
  {
   "cell_type": "code",
   "execution_count": 1,
   "id": "571dccfc",
   "metadata": {},
   "outputs": [
    {
     "name": "stdout",
     "output_type": "stream",
     "text": [
      "Collecting ipyleaflet\n",
      "  Downloading ipyleaflet-0.19.1-py3-none-any.whl.metadata (5.3 kB)\n",
      "Collecting branca>=0.5.0 (from ipyleaflet)\n",
      "  Downloading branca-0.7.2-py3-none-any.whl.metadata (1.5 kB)\n",
      "Collecting ipywidgets<9,>=7.6.0 (from ipyleaflet)\n",
      "  Downloading ipywidgets-8.1.3-py3-none-any.whl.metadata (2.4 kB)\n",
      "Collecting jupyter-leaflet<0.20,>=0.19 (from ipyleaflet)\n",
      "  Downloading jupyter_leaflet-0.19.1-py3-none-any.whl.metadata (2.4 kB)\n",
      "Collecting traittypes<3,>=0.2.1 (from ipyleaflet)\n",
      "  Downloading traittypes-0.2.1-py2.py3-none-any.whl.metadata (1.0 kB)\n",
      "Collecting xyzservices>=2021.8.1 (from ipyleaflet)\n",
      "  Downloading xyzservices-2024.6.0-py3-none-any.whl.metadata (4.0 kB)\n",
      "Requirement already satisfied: jinja2>=3 in c:\\users\\jesus\\appdata\\local\\programs\\python\\python311\\lib\\site-packages (from branca>=0.5.0->ipyleaflet) (3.1.2)\n",
      "Requirement already satisfied: comm>=0.1.3 in c:\\users\\jesus\\appdata\\roaming\\python\\python311\\site-packages (from ipywidgets<9,>=7.6.0->ipyleaflet) (0.1.4)\n",
      "Requirement already satisfied: ipython>=6.1.0 in c:\\users\\jesus\\appdata\\roaming\\python\\python311\\site-packages (from ipywidgets<9,>=7.6.0->ipyleaflet) (8.15.0)\n",
      "Requirement already satisfied: traitlets>=4.3.1 in c:\\users\\jesus\\appdata\\roaming\\python\\python311\\site-packages (from ipywidgets<9,>=7.6.0->ipyleaflet) (5.9.0)\n",
      "Collecting widgetsnbextension~=4.0.11 (from ipywidgets<9,>=7.6.0->ipyleaflet)\n",
      "  Downloading widgetsnbextension-4.0.11-py3-none-any.whl.metadata (1.6 kB)\n",
      "Collecting jupyterlab-widgets~=3.0.11 (from ipywidgets<9,>=7.6.0->ipyleaflet)\n",
      "  Downloading jupyterlab_widgets-3.0.11-py3-none-any.whl.metadata (4.1 kB)\n",
      "Requirement already satisfied: backcall in c:\\users\\jesus\\appdata\\roaming\\python\\python311\\site-packages (from ipython>=6.1.0->ipywidgets<9,>=7.6.0->ipyleaflet) (0.2.0)\n",
      "Requirement already satisfied: decorator in c:\\users\\jesus\\appdata\\roaming\\python\\python311\\site-packages (from ipython>=6.1.0->ipywidgets<9,>=7.6.0->ipyleaflet) (5.1.1)\n",
      "Requirement already satisfied: jedi>=0.16 in c:\\users\\jesus\\appdata\\roaming\\python\\python311\\site-packages (from ipython>=6.1.0->ipywidgets<9,>=7.6.0->ipyleaflet) (0.19.0)\n",
      "Requirement already satisfied: matplotlib-inline in c:\\users\\jesus\\appdata\\roaming\\python\\python311\\site-packages (from ipython>=6.1.0->ipywidgets<9,>=7.6.0->ipyleaflet) (0.1.6)\n",
      "Requirement already satisfied: pickleshare in c:\\users\\jesus\\appdata\\roaming\\python\\python311\\site-packages (from ipython>=6.1.0->ipywidgets<9,>=7.6.0->ipyleaflet) (0.7.5)\n",
      "Requirement already satisfied: prompt-toolkit!=3.0.37,<3.1.0,>=3.0.30 in c:\\users\\jesus\\appdata\\roaming\\python\\python311\\site-packages (from ipython>=6.1.0->ipywidgets<9,>=7.6.0->ipyleaflet) (3.0.39)\n",
      "Requirement already satisfied: pygments>=2.4.0 in c:\\users\\jesus\\appdata\\roaming\\python\\python311\\site-packages (from ipython>=6.1.0->ipywidgets<9,>=7.6.0->ipyleaflet) (2.16.1)\n",
      "Requirement already satisfied: stack-data in c:\\users\\jesus\\appdata\\roaming\\python\\python311\\site-packages (from ipython>=6.1.0->ipywidgets<9,>=7.6.0->ipyleaflet) (0.6.2)\n",
      "Requirement already satisfied: colorama in c:\\users\\jesus\\appdata\\local\\programs\\python\\python311\\lib\\site-packages (from ipython>=6.1.0->ipywidgets<9,>=7.6.0->ipyleaflet) (0.4.6)\n",
      "Requirement already satisfied: MarkupSafe>=2.0 in c:\\users\\jesus\\appdata\\local\\programs\\python\\python311\\lib\\site-packages (from jinja2>=3->branca>=0.5.0->ipyleaflet) (2.1.2)\n",
      "Requirement already satisfied: parso<0.9.0,>=0.8.3 in c:\\users\\jesus\\appdata\\roaming\\python\\python311\\site-packages (from jedi>=0.16->ipython>=6.1.0->ipywidgets<9,>=7.6.0->ipyleaflet) (0.8.3)\n",
      "Requirement already satisfied: wcwidth in c:\\users\\jesus\\appdata\\roaming\\python\\python311\\site-packages (from prompt-toolkit!=3.0.37,<3.1.0,>=3.0.30->ipython>=6.1.0->ipywidgets<9,>=7.6.0->ipyleaflet) (0.2.6)\n",
      "Requirement already satisfied: executing>=1.2.0 in c:\\users\\jesus\\appdata\\roaming\\python\\python311\\site-packages (from stack-data->ipython>=6.1.0->ipywidgets<9,>=7.6.0->ipyleaflet) (1.2.0)\n",
      "Requirement already satisfied: asttokens>=2.1.0 in c:\\users\\jesus\\appdata\\roaming\\python\\python311\\site-packages (from stack-data->ipython>=6.1.0->ipywidgets<9,>=7.6.0->ipyleaflet) (2.4.0)\n",
      "Requirement already satisfied: pure-eval in c:\\users\\jesus\\appdata\\roaming\\python\\python311\\site-packages (from stack-data->ipython>=6.1.0->ipywidgets<9,>=7.6.0->ipyleaflet) (0.2.2)\n",
      "Requirement already satisfied: six>=1.12.0 in c:\\users\\jesus\\appdata\\local\\programs\\python\\python311\\lib\\site-packages (from asttokens>=2.1.0->stack-data->ipython>=6.1.0->ipywidgets<9,>=7.6.0->ipyleaflet) (1.16.0)\n",
      "Downloading ipyleaflet-0.19.1-py3-none-any.whl (30 kB)\n",
      "Downloading branca-0.7.2-py3-none-any.whl (25 kB)\n",
      "Downloading ipywidgets-8.1.3-py3-none-any.whl (139 kB)\n",
      "   ---------------------------------------- 0.0/139.4 kB ? eta -:--:--\n",
      "   -------------------------------------- - 133.1/139.4 kB 3.8 MB/s eta 0:00:01\n",
      "   ---------------------------------------- 139.4/139.4 kB 2.7 MB/s eta 0:00:00\n",
      "Downloading jupyter_leaflet-0.19.1-py3-none-any.whl (1.1 MB)\n",
      "   ---------------------------------------- 0.0/1.1 MB ? eta -:--:--\n",
      "   ----------------- ---------------------- 0.5/1.1 MB 15.2 MB/s eta 0:00:01\n",
      "   ---------------------------------------- 1.1/1.1 MB 13.6 MB/s eta 0:00:00\n",
      "Downloading traittypes-0.2.1-py2.py3-none-any.whl (8.6 kB)\n",
      "Downloading xyzservices-2024.6.0-py3-none-any.whl (83 kB)\n",
      "   ---------------------------------------- 0.0/83.9 kB ? eta -:--:--\n",
      "   ---------------------------------------- 83.9/83.9 kB 4.6 MB/s eta 0:00:00\n",
      "Downloading jupyterlab_widgets-3.0.11-py3-none-any.whl (214 kB)\n",
      "   ---------------------------------------- 0.0/214.4 kB ? eta -:--:--\n",
      "   ---------------------------------------- 214.4/214.4 kB ? eta 0:00:00\n",
      "Downloading widgetsnbextension-4.0.11-py3-none-any.whl (2.3 MB)\n",
      "   ---------------------------------------- 0.0/2.3 MB ? eta -:--:--\n",
      "   ---------------------------------------  2.3/2.3 MB 75.0 MB/s eta 0:00:01\n",
      "   ---------------------------------------- 2.3/2.3 MB 49.5 MB/s eta 0:00:00\n",
      "Installing collected packages: xyzservices, widgetsnbextension, traittypes, jupyterlab-widgets, jupyter-leaflet, branca, ipywidgets, ipyleaflet\n",
      "Successfully installed branca-0.7.2 ipyleaflet-0.19.1 ipywidgets-8.1.3 jupyter-leaflet-0.19.1 jupyterlab-widgets-3.0.11 traittypes-0.2.1 widgetsnbextension-4.0.11 xyzservices-2024.6.0\n",
      "Note: you may need to restart the kernel to use updated packages.\n"
     ]
    },
    {
     "name": "stderr",
     "output_type": "stream",
     "text": [
      "WARNING: Ignoring invalid distribution ~upyterlab (c:\\Users\\jesus\\AppData\\Local\\Programs\\Python\\Python311\\Lib\\site-packages)\n",
      "WARNING: Ignoring invalid distribution ~upyterlab (c:\\Users\\jesus\\AppData\\Local\\Programs\\Python\\Python311\\Lib\\site-packages)\n",
      "\n",
      "[notice] A new release of pip is available: 23.3.2 -> 24.1.1\n",
      "[notice] To update, run: python.exe -m pip install --upgrade pip\n"
     ]
    }
   ],
   "source": [
    "pip install ipyleaflet"
   ]
  },
  {
   "cell_type": "code",
   "execution_count": 1,
   "id": "f08b35ec-7ce3-4d29-bbe3-48f1a8472830",
   "metadata": {
    "tags": []
   },
   "outputs": [],
   "source": [
    "\n",
    "from ipyleaflet import Map, Marker, Icon\n",
    "\n",
    "import requests\n",
    "import time"
   ]
  },
  {
   "cell_type": "code",
   "execution_count": 2,
   "id": "ab29d622-2a1e-429c-a10e-6f03ecf7de28",
   "metadata": {
    "tags": []
   },
   "outputs": [],
   "source": [
    "geo_madrid = (40.4168, -3.7038)"
   ]
  },
  {
   "cell_type": "code",
   "execution_count": 3,
   "id": "a512426d-5262-42ad-a93a-873135cb2a98",
   "metadata": {
    "tags": []
   },
   "outputs": [],
   "source": [
    "m = Map(\n",
    "    center=geo_madrid, \n",
    "    zoom=15\n",
    ")"
   ]
  },
  {
   "attachments": {},
   "cell_type": "markdown",
   "id": "d9e82514-026e-4991-9931-5888e291da2a",
   "metadata": {},
   "source": [
    "Esta función convierte los datos de los drones en marcadores del mapa"
   ]
  },
  {
   "cell_type": "code",
   "execution_count": 4,
   "id": "f8da86bd-4050-4011-bd9c-3830182571e6",
   "metadata": {
    "tags": []
   },
   "outputs": [],
   "source": [
    "def get_marker(drone):\n",
    "    return Marker(\n",
    "        icon = Icon(icon_url='https://cdn-icons-png.flaticon.com/512/1830/1830867.png', icon_size=[40, 40], icon_anchor=[40,40]),\n",
    "        location=(drone[\"location\"][\"coordinates\"][1], drone[\"location\"][\"coordinates\"][0]),\n",
    "        title=drone[\"drone_id\"],\n",
    "        draggable=False\n",
    "    )"
   ]
  },
  {
   "attachments": {},
   "cell_type": "markdown",
   "id": "a02ee0ab-0dfe-4cc4-b427-a9417c00ae94",
   "metadata": {},
   "source": [
    "### Carga de datos inicial\n",
    "\n",
    "Cargamos los drones de la API y los añadimos al mapa"
   ]
  },
  {
   "cell_type": "code",
   "execution_count": 8,
   "id": "f5f27818-7a79-4590-a5f0-a3af5ce733fc",
   "metadata": {
    "tags": []
   },
   "outputs": [],
   "source": [
    "# Get drones from mongodb\n",
    "drones = requests.get(\"https://4rf1docx24.execute-api.us-east-1.amazonaws.com/dev/drones\", params={\"lon\":-3.7084288946607136, \"lat\":40.41702820529783, \"distance\": 1000}).json()"
   ]
  },
  {
   "cell_type": "code",
   "execution_count": 9,
   "id": "1fe70047-f711-4ee9-90e7-3ceaa08b39ce",
   "metadata": {
    "tags": []
   },
   "outputs": [],
   "source": [
    "markers = {d[\"drone_id\"]: get_marker(d) for d in drones}"
   ]
  },
  {
   "cell_type": "code",
   "execution_count": 10,
   "id": "fb6457ae-0268-4a03-9c6b-eeb2563b8ed0",
   "metadata": {
    "tags": []
   },
   "outputs": [],
   "source": [
    "for mkr in markers.values():\n",
    "    m.add_layer(mkr)"
   ]
  },
  {
   "attachments": {},
   "cell_type": "markdown",
   "id": "e6c1eecb-5e02-4170-851c-575442faec65",
   "metadata": {},
   "source": [
    "### Marcador para posición del usuario\n",
    "\n",
    "Permitirá obtener su posición para llamar a la API de trips"
   ]
  },
  {
   "cell_type": "code",
   "execution_count": 11,
   "id": "e38bf8ae-1107-4746-b684-f26a444f7d82",
   "metadata": {
    "tags": []
   },
   "outputs": [],
   "source": [
    "user_location = Marker(location=geo_madrid)\n",
    "m.add_layer(user_location)"
   ]
  },
  {
   "cell_type": "code",
   "execution_count": 12,
   "id": "ebbef6ea-7138-4506-9cbb-5fbf88633666",
   "metadata": {
    "tags": []
   },
   "outputs": [
    {
     "data": {
      "text/plain": [
       "[40.4168, -3.7038]"
      ]
     },
     "execution_count": 12,
     "metadata": {},
     "output_type": "execute_result"
    }
   ],
   "source": [
    "user_location.location"
   ]
  },
  {
   "attachments": {},
   "cell_type": "markdown",
   "id": "d0672ba4-8617-4f71-90a6-d6b60819cebc",
   "metadata": {},
   "source": [
    "### Mostramos y actualizamos el mapa"
   ]
  },
  {
   "cell_type": "code",
   "execution_count": 29,
   "id": "4b1b34ba-607a-4971-aaca-3f8e187edab0",
   "metadata": {
    "tags": []
   },
   "outputs": [
    {
     "data": {
      "application/vnd.jupyter.widget-view+json": {
       "model_id": "6384344c225042d4a54957b249cfd8e4",
       "version_major": 2,
       "version_minor": 0
      },
      "text/plain": [
       "Map(center=[40.4168, -3.7038], controls=(ZoomControl(options=['position', 'zoom_in_text', 'zoom_in_title', 'zo…"
      ]
     },
     "execution_count": 29,
     "metadata": {},
     "output_type": "execute_result"
    }
   ],
   "source": [
    "m"
   ]
  },
  {
   "attachments": {},
   "cell_type": "markdown",
   "id": "ec5d8d52-93dd-4480-9357-5d494b103870",
   "metadata": {
    "tags": []
   },
   "source": [
    "### Llamadas a la API para crear y consultar los viajes"
   ]
  },
  {
   "cell_type": "code",
   "execution_count": 16,
   "id": "969705e3-b980-4592-89fc-af79121ce860",
   "metadata": {
    "tags": []
   },
   "outputs": [],
   "source": [
    "trip = requests.post(\n",
    "    \"https://4rf1docx24.execute-api.us-east-1.amazonaws.com/dev/users/jesus_3/trips\", \n",
    "    json={\n",
    "        \"lon\": user_location.location[1], \n",
    "        \"lat\": user_location.location[0]\n",
    "    }\n",
    ").json()"
   ]
  },
  {
   "cell_type": "code",
   "execution_count": 17,
   "id": "b7afbd48-a94a-4797-8e8d-54ab99dfc4c7",
   "metadata": {
    "tags": []
   },
   "outputs": [
    {
     "data": {
      "text/plain": [
       "{'status': 'Trip created',\n",
       " 'trip': {'created_at': '2024-07-04T12:20:45.976418',\n",
       "  'location': [-3.7038, 40.4168],\n",
       "  'status': 'waiting',\n",
       "  'trip_id': 'b53ab9e0-6697-44b5-8566-1c6cf5a9399e',\n",
       "  'user_id': 'jesus_3'},\n",
       " 'trip_id': 'b53ab9e0-6697-44b5-8566-1c6cf5a9399e'}"
      ]
     },
     "execution_count": 17,
     "metadata": {},
     "output_type": "execute_result"
    }
   ],
   "source": [
    "trip"
   ]
  },
  {
   "cell_type": "code",
   "execution_count": 18,
   "id": "08fcee9c-8406-42ed-82a4-5796ea17ea21",
   "metadata": {
    "tags": []
   },
   "outputs": [],
   "source": [
    "# Get drones from mongodb\n",
    "trips = requests.get(\"https://4rf1docx24.execute-api.us-east-1.amazonaws.com/dev/users/jesus_3/trips\").json()"
   ]
  },
  {
   "cell_type": "code",
   "execution_count": 19,
   "id": "006ee4c0-463a-4249-bfc6-3fdb3279bd3d",
   "metadata": {
    "tags": []
   },
   "outputs": [
    {
     "data": {
      "text/plain": [
       "[{'created_at': '2024-07-04T12:15:00.846388',\n",
       "  'drone_id': 'af021647-8aad-4077-bff5-1ee9b9a62d81',\n",
       "  'location': [-3.7084288946607136, 40.41702820529783],\n",
       "  'status': 'accepted',\n",
       "  'trip_id': 'c4c320e2-1c47-4c65-a602-0d19a6e2d995',\n",
       "  'user_id': 'jesus_3'},\n",
       " {'created_at': '2024-07-04T12:20:45.976418',\n",
       "  'drone_id': '7de4e10f-a9ab-4fc5-a56a-6c0df56de1b5',\n",
       "  'location': [-3.7038, 40.4168],\n",
       "  'status': 'accepted',\n",
       "  'trip_id': 'b53ab9e0-6697-44b5-8566-1c6cf5a9399e',\n",
       "  'user_id': 'jesus_3'}]"
      ]
     },
     "execution_count": 19,
     "metadata": {},
     "output_type": "execute_result"
    }
   ],
   "source": [
    "trips"
   ]
  },
  {
   "attachments": {},
   "cell_type": "markdown",
   "id": "f94eeae5-d7f1-4ec8-b91d-59a9440bb458",
   "metadata": {},
   "source": [
    "### Bucle de actualización del mapa\n",
    "\n",
    "Lo ejecutamos en un thread para no bloquear la libreta"
   ]
  },
  {
   "cell_type": "code",
   "execution_count": 20,
   "id": "e131ec97-b255-4378-96fb-3e42c05ad072",
   "metadata": {},
   "outputs": [],
   "source": [
    "import threading"
   ]
  },
  {
   "cell_type": "code",
   "execution_count": 31,
   "id": "034d58aa-3dbc-462e-8a4c-110517501334",
   "metadata": {
    "tags": []
   },
   "outputs": [],
   "source": [
    "# Para pararlo cambiar esta variable\n",
    "running = False"
   ]
  },
  {
   "cell_type": "code",
   "execution_count": 25,
   "id": "2a34283c-b6ea-44ff-b922-929777086209",
   "metadata": {
    "tags": []
   },
   "outputs": [],
   "source": [
    "def update_map():\n",
    "    while running:\n",
    "        # Get drones from mongodb\n",
    "        # drones = requests.get()\n",
    "        drones = requests.get(\"https://4rf1docx24.execute-api.us-east-1.amazonaws.com/dev/drones\", params={\"lon\":-3.7084288946607136, \"lat\":40.41702820529783, \"distance\": 1000}).json()\n",
    "\n",
    "        for d in drones:\n",
    "            markers[d[\"drone_id\"]].location = (d[\"location\"][\"coordinates\"][1], d[\"location\"][\"coordinates\"][0])\n",
    "\n",
    "        time.sleep(5)"
   ]
  },
  {
   "cell_type": "code",
   "execution_count": 26,
   "id": "afc9d7aa-3e43-48b6-a7cf-33faf298498a",
   "metadata": {},
   "outputs": [],
   "source": [
    "thread = threading.Thread(target=update_map)"
   ]
  },
  {
   "cell_type": "code",
   "execution_count": 27,
   "id": "787e06e4-5f94-4ba4-afe6-150bb590c7a2",
   "metadata": {},
   "outputs": [],
   "source": [
    "thread.start()"
   ]
  },
  {
   "cell_type": "code",
   "execution_count": 30,
   "id": "c6ec5123-6450-4eff-a2ea-4cf6fef8eb17",
   "metadata": {
    "tags": []
   },
   "outputs": [
    {
     "data": {
      "text/plain": [
       "True"
      ]
     },
     "execution_count": 30,
     "metadata": {},
     "output_type": "execute_result"
    }
   ],
   "source": [
    "thread.is_alive()"
   ]
  },
  {
   "cell_type": "code",
   "execution_count": null,
   "id": "a2b1b26e-dcf3-4424-8df8-7039c04db118",
   "metadata": {},
   "outputs": [],
   "source": []
  }
 ],
 "metadata": {
  "kernelspec": {
   "display_name": "Python 3 (ipykernel)",
   "language": "python",
   "name": "python3"
  },
  "language_info": {
   "codemirror_mode": {
    "name": "ipython",
    "version": 3
   },
   "file_extension": ".py",
   "mimetype": "text/x-python",
   "name": "python",
   "nbconvert_exporter": "python",
   "pygments_lexer": "ipython3",
   "version": "3.11.2"
  }
 },
 "nbformat": 4,
 "nbformat_minor": 5
}
